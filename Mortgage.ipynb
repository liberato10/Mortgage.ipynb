{
  "nbformat": 4,
  "nbformat_minor": 0,
  "metadata": {
    "colab": {
      "name": "Mortgage.ipynb",
      "provenance": [],
      "authorship_tag": "ABX9TyOlziqQOybLJOYeFenEgQPe",
      "include_colab_link": true
    },
    "kernelspec": {
      "name": "python3",
      "display_name": "Python 3"
    },
    "language_info": {
      "name": "python"
    }
  },
  "cells": [
    {
      "cell_type": "markdown",
      "metadata": {
        "id": "view-in-github",
        "colab_type": "text"
      },
      "source": [
        "<a href=\"https://colab.research.google.com/github/liberato10/Mortgage.ipynb/blob/main/Mortgage.ipynb\" target=\"_parent\"><img src=\"https://colab.research.google.com/assets/colab-badge.svg\" alt=\"Open In Colab\"/></a>"
      ]
    },
    {
      "cell_type": "code",
      "execution_count": 1,
      "metadata": {
        "id": "DOfNjYl9wqOK"
      },
      "outputs": [],
      "source": [
        "def EMI (P, r, n):\n",
        "  monthly_installment = P * (r*(1+r)**n)/((1+r)**n-1)\n",
        "  return monthly_installment"
      ]
    },
    {
      "cell_type": "code",
      "source": [
        "#solution 1\n",
        "EMI (400000,0.03/12,30*12)"
      ],
      "metadata": {
        "colab": {
          "base_uri": "https://localhost:8080/"
        },
        "id": "yz9XtaSryszM",
        "outputId": "8fb402a3-0795-4ff1-adc6-869cf3ced18a"
      },
      "execution_count": 2,
      "outputs": [
        {
          "output_type": "execute_result",
          "data": {
            "text/plain": [
              "1686.4161349178237"
            ]
          },
          "metadata": {},
          "execution_count": 2
        }
      ]
    },
    {
      "cell_type": "code",
      "source": [
        "#solution 2\n",
        "EMI (400000,0.06/12,30*12)"
      ],
      "metadata": {
        "colab": {
          "base_uri": "https://localhost:8080/"
        },
        "id": "xw7DlAaizJx6",
        "outputId": "aa067f47-3a3a-4f5d-a576-b406b318b849"
      },
      "execution_count": 3,
      "outputs": [
        {
          "output_type": "execute_result",
          "data": {
            "text/plain": [
              "2398.2021006110276"
            ]
          },
          "metadata": {},
          "execution_count": 3
        }
      ]
    }
  ]
}